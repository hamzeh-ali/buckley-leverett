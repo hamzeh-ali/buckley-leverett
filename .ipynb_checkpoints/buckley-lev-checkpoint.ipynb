{
 "cells": [
  {
   "cell_type": "code",
   "execution_count": 173,
   "metadata": {
    "collapsed": true
   },
   "outputs": [],
   "source": [
    "import numpy as np\n",
    "from scipy import interpolate\n",
    "import matplotlib.pyplot as plt\n",
    "from matplotlib.patches import Polygon "
   ]
  },
  {
   "cell_type": "code",
   "execution_count": 174,
   "metadata": {
    "collapsed": true
   },
   "outputs": [],
   "source": [
    "class BuckleyLev():\n",
    "    \n",
    "    def __init__(self):\n",
    "        self.params = {\n",
    "            #non wetting phase viscosity\n",
    "            \"viscosity_o\": 1.e-3,\n",
    "            #wetting phase viscosity\n",
    "            \"viscosity_w\": 1.e-3,\n",
    "            #initial water sat\n",
    "            \"initial_sw\":0,\n",
    "            #residual water saturation,\n",
    "            \"residual_w\":0.1,\n",
    "            #residual oil saturation,\n",
    "            \"residual_o\":0.2,\n",
    "            #water rel perm at water curve end point\n",
    "            \"krwe\":0.7,\n",
    "            #oil rel perm at oil curve end point\n",
    "            \"kroe\": 0.99\n",
    "        }"
   ]
  },
  {
   "cell_type": "code",
   "execution_count": 175,
   "metadata": {
    "collapsed": false
   },
   "outputs": [],
   "source": [
    "def k_rw(self,sw):\n",
    "    #water relative perm calculation for a given water saturation \n",
    "    p = 11.174\n",
    "    return ((self.params['krwe']))*sw**p\n",
    "\n",
    "BuckleyLev.k_rw = k_rw"
   ]
  },
  {
   "cell_type": "code",
   "execution_count": 176,
   "metadata": {
    "collapsed": true
   },
   "outputs": [],
   "source": [
    "def k_rn(self,sw):\n",
    "    #oil relative perm calculation for a given water saturation \n",
    "    q = 3.326\n",
    "    return ((1.-self.params['kroe']*sw)**q)\n",
    "\n",
    "BuckleyLev.k_rn = k_rn"
   ]
  },
  {
   "cell_type": "code",
   "execution_count": 177,
   "metadata": {
    "collapsed": false
   },
   "outputs": [],
   "source": [
    "def fractional_flow(self,sw):\n",
    "    #returns the fractional flow\n",
    "    \n",
    "    return 1./(1.+((self.k_rn(sw)/self.k_rw(sw))*(self.params[\"viscosity_w\"]/self.params[\"viscosity_o\"])))\n",
    "\n",
    "BuckleyLev.fractional_flow = fractional_flow"
   ]
  },
  {
   "cell_type": "code",
   "execution_count": 178,
   "metadata": {
    "collapsed": false
   },
   "outputs": [],
   "source": [
    "def fractional_flow_deriv(self,sw):\n",
    "    #calculate derivative of fractional flow - dFw/dSw - Vsh\n",
    "    \n",
    "    f_deriv = (self.fractional_flow(sw+0.0001) - self.fractional_flow(sw))/0.0001\n",
    "    \n",
    "    return f_deriv\n",
    "\n",
    "BuckleyLev.fractional_flow_deriv = fractional_flow_deriv"
   ]
  },
  {
   "cell_type": "code",
   "execution_count": 179,
   "metadata": {
    "collapsed": true
   },
   "outputs": [],
   "source": [
    "def plot_fractional_flow_deriv(self):\n",
    "    #plot the derivative dFw/dSw - Vsh vs Sw\n",
    "    y = np.linspace(self.params[\"residual_w\"]+1e-3,(1-self.params[\"residual_o\"]+1e-3),50)\n",
    "    x = [self.fractional_flow_deriv(i) for i in y ]\n",
    "    \n",
    "    plt.plot(x,y)\n",
    "    plt.title('Derivative of fractional flow curve')\n",
    "    plt.xlabel('dfw/dSw')\n",
    "    plt.ylabel('Sw')\n",
    "    plt.show()\n",
    "    \n",
    "BuckleyLev.plot_fractional_flow_deriv=plot_fractional_flow_deriv"
   ]
  },
  {
   "cell_type": "code",
   "execution_count": 180,
   "metadata": {
    "collapsed": false
   },
   "outputs": [],
   "source": [
    "def sw_at_shock_front(self):\n",
    "    #first find range to search in by looking where 2nd derivative is negative (where curve turns)\n",
    "    \n",
    "    sw_start = 1.-self.params['residual_o']\n",
    "    sw_end = self.params['residual_w']\n",
    "    \n",
    "    \n",
    "    for sw in np.arange(self.params['residual_w']+1.e-9, 1.-self.params['residual_o'],0.001):\n",
    "        if (self.fractional_flow_2deriv(sw)< -1.e-2 and sw < sw_start):\n",
    "            #i.e. we are below sw_start and the grad is negative - update upper limit\n",
    "            sw_start = sw\n",
    "        if (self.fractional_flow_2deriv(sw)< -1.e-2 and sw > sw_end):\n",
    "            # i.e. we are above sw_end and the gradient is negative - update lower limit\n",
    "            sw_end = sw\n",
    "        else:\n",
    "            sw_at_front = 0.\n",
    "            current_min = 1000.\n",
    "        \n",
    "            #find where finite difference approximation (almost) equals the continuous value of the function\n",
    "    for sw in np.arange(sw_start,sw_end, 0.0001):\n",
    "        \n",
    "        current_diff = abs(self.fractional_flow_deriv(sw)-self.fractional_flow(sw)/sw)\n",
    "        #print( 'grad func',self.fractional_flow_deriv(sw),sw,self.fractional_flow(sw)/sw)\n",
    "        print('approx',self.fractional_flow(sw)/sw, sw)\n",
    "        if current_diff < current_min:\n",
    "            #print('sw at front',current_min, sw,current_diff)\n",
    "            current_min = current_diff\n",
    "            sw_at_front = sw\n",
    "                \n",
    "            current_min = current_diff\n",
    "                    \n",
    "    return sw_at_front\n",
    "BuckleyLev.sw_at_shock_front = sw_at_shock_front"
   ]
  },
  {
   "cell_type": "code",
   "execution_count": 181,
   "metadata": {
    "collapsed": false
   },
   "outputs": [],
   "source": [
    "def plot_fractional_flow(self):\n",
    "    #plot the sw vs fractional flow\n",
    "    \n",
    "    x = np.linspace(self.params[\"residual_w\"]+1e-3,(1-self.params[\"residual_o\"]+1e-3),50)\n",
    "    y = [self.fractional_flow(i) for i in x ]\n",
    "    \n",
    "    plt.plot(x,y)\n",
    "    \n",
    "    sw_at_front = self.sw_at_shock_front()\n",
    "    plt.plot([sw_at_front],[self.fractional_flow(sw_at_front)],'ro')\n",
    "    \n",
    "    plt.title('Fractional flow as a function of water saturation')\n",
    "    plt.xlabel('Sw')\n",
    "    plt.ylabel('Fractional flow')\n",
    "    \n",
    "    plt.show()\n",
    "    \n",
    "BuckleyLev.plot_fractional_flow = plot_fractional_flow"
   ]
  },
  {
   "cell_type": "code",
   "execution_count": 182,
   "metadata": {
    "collapsed": true
   },
   "outputs": [],
   "source": [
    "def fractional_flow_2deriv(self,sw):\n",
    "    f_2deriv = ((self.fractional_flow(sw+0.01))-2*(self.fractional_flow(sw))-self.fractional_flow(sw-0.01))/((0.01)**2)\n",
    "    return f_2deriv\n",
    "\n",
    "BuckleyLev.fractional_flow_2deriv = fractional_flow_2deriv"
   ]
  },
  {
   "cell_type": "code",
   "execution_count": 183,
   "metadata": {
    "collapsed": false
   },
   "outputs": [],
   "source": [
    "a = BuckleyLev()\n",
    "#a.plot_fractional_flow()\n",
    "#a.plot_fractional_flow_deriv()\n",
    "#a.sw_at_shock_front()\n"
   ]
  },
  {
   "cell_type": "code",
   "execution_count": 184,
   "metadata": {
    "collapsed": false
   },
   "outputs": [
    {
     "ename": "SyntaxError",
     "evalue": "invalid syntax (<ipython-input-184-694dfd2eefdf>, line 7)",
     "output_type": "error",
     "traceback": [
      "\u001b[0;36m  File \u001b[0;32m\"<ipython-input-184-694dfd2eefdf>\"\u001b[0;36m, line \u001b[0;32m7\u001b[0m\n\u001b[0;31m    x = [x for x in x if ]\u001b[0m\n\u001b[0m                         ^\u001b[0m\n\u001b[0;31mSyntaxError\u001b[0m\u001b[0;31m:\u001b[0m invalid syntax\n"
     ]
    }
   ],
   "source": [
    "def displacement_plot(self):\n",
    "    #using the shock front velocity, plot the displacement profile\n",
    "    v_sh = self.sw_at_shock_front()\n",
    "    \n",
    "    y = np.linspace(self.params[\"residual_w\"]+1e-3,(1-self.params[\"residual_o\"]+1e-3),50)\n",
    "    x = [self.fractional_flow_deriv(i) for i in y if self.fractional_flow_deriv(i)>v_sh ]\n",
    "    x = [x for x in x if ]\n",
    "\n",
    "    return x\n",
    "BuckleyLev.displacement_plot = displacement_plot"
   ]
  },
  {
   "cell_type": "code",
   "execution_count": null,
   "metadata": {
    "collapsed": false
   },
   "outputs": [],
   "source": [
    "a.displacement_plot()"
   ]
  },
  {
   "cell_type": "code",
   "execution_count": null,
   "metadata": {
    "collapsed": false
   },
   "outputs": [],
   "source": [
    "x = [0.34515032411008839,\n",
    " 0.58300106927221262,\n",
    " 0.96800379159621419,\n",
    " 1.5693554144293533,\n",
    " 2.4561766717509648,\n",
    " 3.6464038686046529,\n",
    " 5.0121210425025371,\n",
    " 6.2001111874847021,\n",
    " 6.727686174101466,\n",
    " 6.3186101190487731,\n",
    " 5.1607154153902046,\n",
    " 3.7385562003204864,\n",
    " 2.4643169685046873,\n",
    " 1.5119874927932431,\n",
    " 0.87693503513319726,\n",
    " 0.48426662278056032]\n",
    "current_max = 0\n",
    "new_list = []\n",
    "for index, item in enumerate(x):\n",
    "    if (x[index]<=x[index+1]):\n",
    "        new_list.append(x[index+1])\n",
    "    else:\n",
    "        break\n",
    "        \n",
    "print(new_list)\n",
    "new_list = filter(lambda (index,item): item == current_max,enumerate(x))\n",
    "new_list = filter(lambda (index,item): item == max(x),enumerate(x))\n"
   ]
  },
  {
   "cell_type": "code",
   "execution_count": 185,
   "metadata": {
    "collapsed": false
   },
   "outputs": [],
   "source": [
    "def rarefaction(self):\n",
    "    # it should calculate the shock velocity and the corresponding saturation which this occurs an\n",
    "    \n",
    "    #create dx window of increasing size for calculating welge\n",
    "    x = np.linspace(self.params[\"residual_w\"]+1e-3,(1-self.params[\"residual_o\"]+1e-3),50)\n",
    "    \n",
    "    maximum, sw_shock = 0,0\n",
    "    grads = []\n",
    "    \n",
    "    ## calculate welge gradient at each point until we find the max = shock velocity\n",
    "    for swi in x:\n",
    "        grad = self.fractional_flow(swi)/(swi-self.params[\"residual_w\"]+1e-3)\n",
    "        grads.append(grad)\n",
    "        \n",
    "        if grad>maximum:\n",
    "            sw_shock = swi\n",
    "            maximum = grad\n",
    "            \n",
    "    #find the position of the shock velocity in the grads array and slice to this point for the rarefaction \n",
    "    #plus one to include the actual shock velocity\n",
    "    rarefaction = grads[:([i for i,x in enumerate(grads) if x == maximum][0]+1)]\n",
    "    \n",
    "    return(sw_shock,maximum, rarefaction)\n",
    "    \n",
    "BuckleyLev.rarefaction = rarefaction"
   ]
  },
  {
   "cell_type": "code",
   "execution_count": 276,
   "metadata": {
    "collapsed": false
   },
   "outputs": [
    {
     "data": {
      "image/png": "[encoded data removed]",
      "text/plain": [
       "<matplotlib.figure.Figure at 0x1106cedd0>"
      ]
     },
     "metadata": {},
     "output_type": "display_data"
    }
   ],
   "source": [
    "y = np.linspace(a.params[\"residual_w\"]+1e-3,(1-a.params[\"residual_o\"]+1e-3),50)[:(len(x))]\n",
    "x = a.rarefaction()[2]\n",
    "x.sort(reverse=True)\n",
    "\n",
    "#plot rarefaction part\n",
    "plt.plot(x,y,'b',lw=2)\n",
    "\n",
    "#highlight vshock\n",
    "plt.plot(x[0],y[0],'ro')\n",
    "\n",
    "#add the part ahead of the shock front\n",
    "plt.vlines(x[0],y[0],a.params[\"initial_sw\"]-1,'b',lw=2)\n",
    "plt.hlines(a.params[\"initial_sw\"]-1,x[0],1.9,'b',lw=2)\n",
    "\n",
    "#add saturation lines\n",
    "plt.hlines(a.params[\"initial_sw\"]-1,0,x[0],linestyles='dashed',lw=2,colors='0.4')\n",
    "plt.hlines(y[0],0,x[0],linestyles='dashed',lw=2, colors='0.4')\n",
    "plt.vlines(x[0],-2,a.params[\"initial_sw\"]-1,linestyles='dashed',lw=2, colors='0.4')\n",
    "\n",
    "# add annotations\n",
    "plt.annotate('Vshock',xy=(x[0]+0.1,y[0]+0.1))\n",
    "\n",
    "plt.xlabel('Dimensionless Velocity, Vd')\n",
    "plt.ylabel('Saturation')\n",
    "\n",
    "plt.ylim([-2,1])\n",
    "plt.show()"
   ]
  },
  {
   "cell_type": "code",
   "execution_count": 196,
   "metadata": {
    "collapsed": false
   },
   "outputs": [],
   "source": [
    "x = np.linspace(a.params[\"residual_w\"]+1e-3,(1-a.params[\"residual_o\"]+1e-3),50)\n",
    "grads = map(lambda (index, swi): a.fractional_flow(swi)/(swi-a.params[\"residual_w\"]+1e-3) ,enumerate(x))"
   ]
  },
  {
   "cell_type": "code",
   "execution_count": 67,
   "metadata": {
    "collapsed": false
   },
   "outputs": [
    {
     "data": {
      "text/plain": [
       "0.99800376989047002"
      ]
     },
     "execution_count": 67,
     "metadata": {},
     "output_type": "execute_result"
    }
   ],
   "source": [
    "#reduce(lambda item,accum: item if (item>accum) else accum ,grads)\n",
    "#filter(lambda (item,iter): item>item[iter-1] ,enumerate(grads))\n",
    "reduce(lambda item,accum:  accum,grads)"
   ]
  },
  {
   "cell_type": "code",
   "execution_count": 201,
   "metadata": {
    "collapsed": false
   },
   "outputs": [
    {
     "data": {
      "text/plain": [
       "array([ 0.101     ,  0.11528571,  0.12957143,  0.14385714,  0.15814286,\n",
       "        0.17242857,  0.18671429,  0.201     ,  0.21528571,  0.22957143,\n",
       "        0.24385714,  0.25814286,  0.27242857,  0.28671429,  0.301     ,\n",
       "        0.31528571,  0.32957143,  0.34385714,  0.35814286,  0.37242857,\n",
       "        0.38671429,  0.401     ,  0.41528571,  0.42957143,  0.44385714,\n",
       "        0.45814286,  0.47242857,  0.48671429,  0.501     ,  0.51528571,\n",
       "        0.52957143,  0.54385714,  0.55814286,  0.57242857,  0.58671429,\n",
       "        0.601     ,  0.61528571,  0.62957143,  0.64385714,  0.65814286,\n",
       "        0.67242857,  0.68671429,  0.701     ,  0.71528571,  0.72957143,\n",
       "        0.74385714,  0.75814286,  0.77242857,  0.78671429,  0.801     ])"
      ]
     },
     "execution_count": 201,
     "metadata": {},
     "output_type": "execute_result"
    }
   ],
   "source": [
    "y"
   ]
  },
  {
   "cell_type": "code",
   "execution_count": 207,
   "metadata": {
    "collapsed": false
   },
   "outputs": [
    {
     "data": {
      "text/plain": [
       "1.306270148757152"
      ]
     },
     "execution_count": 207,
     "metadata": {},
     "output_type": "execute_result"
    }
   ],
   "source": [
    "y[len(y)-1]\n",
    "x[0]"
   ]
  },
  {
   "cell_type": "code",
   "execution_count": 102,
   "metadata": {
    "collapsed": false
   },
   "outputs": [
    {
     "data": {
      "text/plain": [
       "41"
      ]
     },
     "execution_count": 102,
     "metadata": {},
     "output_type": "execute_result"
    }
   ],
   "source": [
    "[i for i,x in enumerate(c[0]) if x == c[2]][0]"
   ]
  },
  {
   "cell_type": "code",
   "execution_count": 105,
   "metadata": {
    "collapsed": false
   },
   "outputs": [
    {
     "data": {
      "image/png": "[encoded data removed]",
      "text/plain": [
       "<matplotlib.figure.Figure at 0x10f107f90>"
      ]
     },
     "metadata": {},
     "output_type": "display_data"
    }
   ],
   "source": [
    "plt.plot(,c[0][:[i for i,x in enumerate(c[0]) if x == c[2]][0]])\n",
    "plt.show()"
   ]
  },
  {
   "cell_type": "code",
   "execution_count": 110,
   "metadata": {
    "collapsed": false
   },
   "outputs": [
    {
     "data": {
      "text/plain": [
       "([1.0555985171873555e-31,\n",
       "  7.439251471259825e-18,\n",
       "  7.4042084864082389e-15,\n",
       "  4.5685432294991604e-13,\n",
       "  8.8360010056319082e-12,\n",
       "  9.0090655953176873e-11,\n",
       "  6.1189686964991084e-10,\n",
       "  3.1391354631025245e-09,\n",
       "  1.3115646634414593e-08,\n",
       "  4.6859245982700724e-08,\n",
       "  1.4802460157222927e-07,\n",
       "  4.2343397878323237e-07,\n",
       "  1.1164542415015989e-06,\n",
       "  2.7501845203759121e-06,\n",
       "  6.396252522829e-06,\n",
       "  1.4163812941259775e-05,\n",
       "  3.0066683767769093e-05,\n",
       "  6.152928040591584e-05,\n",
       "  0.00012195782970164976,\n",
       "  0.00023507016555416723,\n",
       "  0.00044210559336879755,\n",
       "  0.00081372116016860201,\n",
       "  0.0014694695895603404,\n",
       "  0.0026094654940107074,\n",
       "  0.0045654740513758471,\n",
       "  0.0078825037377451852,\n",
       "  0.013447062726465368,\n",
       "  0.022683274136170117,\n",
       "  0.037837718012137637,\n",
       "  0.062352180276312175,\n",
       "  0.10124140211105588,\n",
       "  0.16117891501218773,\n",
       "  0.24959474685979291,\n",
       "  0.37173937426879866,\n",
       "  0.52541837159451643,\n",
       "  0.69631484598048288,\n",
       "  0.86015048268563321,\n",
       "  0.99362149403855515,\n",
       "  1.0852893283595302,\n",
       "  1.1370628125859281,\n",
       "  1.1581620510843109,\n",
       "  1.1588480288892082,\n",
       "  1.1473209176903265,\n",
       "  1.1291529263742035,\n",
       "  1.107785999445517,\n",
       "  1.0852122647701097,\n",
       "  1.0625226612731018,\n",
       "  1.0402779328405098,\n",
       "  1.0187391015913996,\n",
       "  0.99800376989047002],\n",
       " 0.83773469387755095,\n",
       " 1.1588480288892082)"
      ]
     },
     "execution_count": 110,
     "metadata": {},
     "output_type": "execute_result"
    }
   ],
   "source": [
    "c"
   ]
  },
  {
   "cell_type": "code",
   "execution_count": 134,
   "metadata": {
    "collapsed": false
   },
   "outputs": [
    {
     "data": {
      "text/plain": [
       "array([ 0.001])"
      ]
     },
     "execution_count": 134,
     "metadata": {},
     "output_type": "execute_result"
    }
   ],
   "source": [
    "x[:1]"
   ]
  },
  {
   "cell_type": "code",
   "execution_count": null,
   "metadata": {
    "collapsed": true
   },
   "outputs": [],
   "source": []
  }
 ],
 "metadata": {
  "kernelspec": {
   "display_name": "Python [Root]",
   "language": "python",
   "name": "Python [Root]"
  },
  "language_info": {
   "codemirror_mode": {
    "name": "ipython",
    "version": 2
   },
   "file_extension": ".py",
   "mimetype": "text/x-python",
   "name": "python",
   "nbconvert_exporter": "python",
   "pygments_lexer": "ipython2",
   "version": "2.7.12"
  }
 },
 "nbformat": 4,
 "nbformat_minor": 0
}
