{
 "cells": [
  {
   "cell_type": "code",
   "execution_count": 1027,
   "metadata": {
    "collapsed": true
   },
   "outputs": [],
   "source": [
    "import numpy as np\n",
    "from scipy import interpolate\n",
    "import matplotlib.pyplot as plt\n",
    "from matplotlib.patches import Polygon \n",
    "from pylab import figure, show, legend, ylabel\n",
    "from math import e, pi, isinf"
   ]
  },
  {
   "cell_type": "code",
   "execution_count": 1545,
   "metadata": {
    "collapsed": true
   },
   "outputs": [],
   "source": [
    "class BuckleyLev():\n",
    "    \n",
    "    def __init__(self):\n",
    "        self.params = {\n",
    "            #non wetting phase viscosity\n",
    "            \"viscosity_o\": 1.e-3,\n",
    "            #wetting phase viscosity\n",
    "            \"viscosity_w\": 0.5e-3,\n",
    "            #initial water sat\n",
    "            \"initial_sw\":0.4,\n",
    "            #residual water saturation, Swirr\n",
    "            \"residual_w\":0.1,\n",
    "            #residual oil saturation, Sor\n",
    "            \"residual_o\":0.1,\n",
    "            #connate water saturation \n",
    "            #water rel perm at water curve end point\n",
    "            \"krwe\":1,\n",
    "            #oil rel perm at oil curve end point\n",
    "            \"kroe\": 0.9,\n",
    "            #dimless velocity results\n",
    "            'vd_array':[],\n",
    "            #porosity\n",
    "            'poro':0.24,\n",
    "            #water injection rate units m3/hr\n",
    "            \"inject_rate\":200,\n",
    "            #cross sectional area units m2\n",
    "            \"x-area\":30\n",
    "        }"
   ]
  },
  {
   "cell_type": "code",
   "execution_count": 1546,
   "metadata": {
    "collapsed": true
   },
   "outputs": [],
   "source": [
    "def k_rw(self,sw):\n",
    "    #water relative perm calculation for a given water saturation \n",
    "    p = 11.174\n",
    "    return ((self.params['krwe']))*sw**p\n",
    "\n",
    "BuckleyLev.k_rw = k_rw"
   ]
  },
  {
   "cell_type": "code",
   "execution_count": 1547,
   "metadata": {
    "collapsed": true
   },
   "outputs": [],
   "source": [
    "def k_rn(self,sw):\n",
    "    #oil relative perm calculation for a given water saturation \n",
    "    q = 3.326\n",
    "    return ((1.-self.params['kroe']*sw)**q)\n",
    "\n",
    "BuckleyLev.k_rn = k_rn"
   ]
  },
  {
   "cell_type": "code",
   "execution_count": 1548,
   "metadata": {
    "collapsed": true
   },
   "outputs": [],
   "source": [
    "def fractional_flow(self,sw):\n",
    "    #returns the fractional flow\n",
    "    \n",
    "    return 1./(1.+((self.k_rn(sw)/self.k_rw(sw))*(self.params[\"viscosity_w\"]/self.params[\"viscosity_o\"])))\n",
    "\n",
    "BuckleyLev.fractional_flow = fractional_flow"
   ]
  },
  {
   "cell_type": "code",
   "execution_count": 1549,
   "metadata": {
    "collapsed": false
   },
   "outputs": [],
   "source": [
    "def plot_fractional_flow(self):\n",
    "    #plot the sw vs fractional flow\n",
    "    \n",
    "    #x = np.linspace(self.params[\"residual_w\"]+1e-3,(1-self.params[\"residual_o\"]+1e-3),100)\n",
    "    x = np.linspace(self.params[\"residual_w\"]+1e-3,(1-self.params[\"residual_o\"]),100)\n",
    "    y = [self.fractional_flow(i) for i in x ]\n",
    "    \n",
    "    plt.plot(x,y)\n",
    "    \n",
    "    #sw_at_front = self.sw_at_shock_front()\n",
    "    #plt.plot([sw_at_front],[self.fractional_flow(sw_at_front)],'ro')\n",
    "    \n",
    "    plt.title('Fractional flow as a function of water saturation')\n",
    "    plt.xlabel('Sw')\n",
    "    plt.ylabel('Fractional flow')\n",
    "    plt.ylim([0,1.1])\n",
    "    plt.xlim([0,1])\n",
    "    \n",
    "    #add limiting fractional flow lines\n",
    "    plt.hlines(y[len(y)-1],0,1,linestyles='dashed',lw=2, colors='0.4')\n",
    "    plt.annotate('fw max: %.4f' % y[len(y)-1],xy=(0.08,0.95))\n",
    "    \n",
    "    \n",
    "    #plt.show()\n",
    "    #print(y[len(y)-1])\n",
    "    \n",
    "BuckleyLev.plot_fractional_flow = plot_fractional_flow"
   ]
  },
  {
   "cell_type": "code",
   "execution_count": 1550,
   "metadata": {
    "collapsed": true
   },
   "outputs": [],
   "source": [
    "def fractional_flow_deriv(self,sw):\n",
    "    #calculate derivative of fractional flow - dFw/dSw - Vsh\n",
    "    \n",
    "    f_deriv = (self.fractional_flow(sw+0.0001) - self.fractional_flow(sw))/0.0001\n",
    "    \n",
    "    return f_deriv\n",
    "\n",
    "BuckleyLev.fractional_flow_deriv = fractional_flow_deriv"
   ]
  },
  {
   "cell_type": "code",
   "execution_count": 1551,
   "metadata": {
    "collapsed": false
   },
   "outputs": [],
   "source": [
    "def plot_fractional_flow_deriv(self):\n",
    "    #plot the derivative dFw/dSw - Vsh vs Sw\n",
    "    x = np.linspace(self.params[\"residual_w\"]+1e-3,(1-self.params[\"residual_o\"]),100)\n",
    "    y = [self.fractional_flow_deriv(i) for i in x ]\n",
    "    \n",
    "    plt.plot(x,y)\n",
    "    plt.title('Derivative of fractional flow curve')\n",
    "    plt.ylabel('dfw/dSw')\n",
    "    plt.xlabel('Sw')\n",
    "    plt.show()\n",
    "    \n",
    "BuckleyLev.plot_fractional_flow_deriv=plot_fractional_flow_deriv"
   ]
  },
  {
   "cell_type": "code",
   "execution_count": 1552,
   "metadata": {
    "collapsed": false
   },
   "outputs": [],
   "source": [
    "def frac_deriv_combo(self):\n",
    "    x = np.linspace(self.params[\"residual_w\"]+1e-3,((1-self.params[\"residual_o\"])),100)\n",
    "    # is the fractional flow curve\n",
    "    y = [self.fractional_flow(i) for i in x ]\n",
    "    \n",
    "    #y2 is the derivative\n",
    "    y2 = [self.fractional_flow_deriv(i) for i in x ]\n",
    " \n",
    "    fig1 = figure()\n",
    "    \n",
    "    ax1 = fig1.add_subplot(111)\n",
    "    line1 = ax1.plot(x,y,lw=2)\n",
    "    ylabel(\"Fractional flow\")\n",
    "    ax1.set_ylim([0,1.2])\n",
    "  \n",
    "    \n",
    "    ax2 = fig1.add_subplot(111, sharex=ax1, frameon=False)\n",
    "    line2 = ax2.plot(x,y2,'-r',lw=2)\n",
    "    ax2.yaxis.tick_right()\n",
    "    ax2.yaxis.set_label_position(\"right\")\n",
    "    ylabel(\"Derivative dfw/dsw\")\n",
    "    ax2.set_xlim([0.4,1])\n",
    "    \n",
    "    plt.title('Fractional flow as a function of water saturation')\n",
    "    \n",
    "    plt.xlabel('Sw')\n",
    "    \n",
    "    ax1.hlines(y[len(y)-1],0,1,linestyles='dashed',lw=2, colors='0.4')\n",
    "    ax1.annotate('fw max: %.4f' % y[len(y)-1],xy=(0.85,1.02))\n",
    "    \n",
    "    \n",
    "    ax1.spines['left'].set_color('blue')\n",
    "    ax1.tick_params(axis='y', colors='blue')\n",
    "    \n",
    "    ax1.spines['right'].set_color('red')\n",
    "    ax2.tick_params(axis='y', colors='red')\n",
    "    \n",
    "\n",
    "    show()\n",
    "    \n",
    "BuckleyLev.frac_deriv_combo = frac_deriv_combo"
   ]
  },
  {
   "cell_type": "code",
   "execution_count": 1553,
   "metadata": {
    "collapsed": false
   },
   "outputs": [],
   "source": [
    "#generate xt curve for a given time step, if no time step, timwe =1 \n",
    "def xt(self,time=1):\n",
    "    \n",
    "    flux = ((self.params['inject_rate'])/(60.0*60.0))/self.params['x-area']\n",
    "    td = (flux*time)/(self.params['x-area']*self.params['poro'])\n",
    "    \n",
    "    y = np.linspace(self.params[\"residual_w\"]+1e-3,(1-self.params[\"residual_o\"]),50)\n",
    "    x = [(self.fractional_flow_deriv(i))*td for i in y]\n",
    "    \n",
    "    return(x,y)\n",
    "\n",
    "BuckleyLev.xt = xt\n",
    "    \n"
   ]
  },
  {
   "cell_type": "code",
   "execution_count": 1554,
   "metadata": {
    "collapsed": false
   },
   "outputs": [],
   "source": [
    "def shock_sat(self):\n",
    "    \n",
    "    #create dx window of increasing size for calculating welge\n",
    "\n",
    "    x = np.linspace(self.params[\"residual_w\"]+1e-3,(1-self.params[\"residual_o\"]),100)\n",
    "    y = [self.fractional_flow(i) for i in x ]\n",
    "  \n",
    "    maximum, sw_shock = 0,0\n",
    "    grads = []\n",
    "    \n",
    "    for index,item in enumerate(y):\n",
    "        \n",
    "        grad = (item - (y[0]+0.00001))/(x[index]-(x[0]+0.001)) \n",
    "        \n",
    "        \n",
    "        if grad>maximum:\n",
    "            #plt.plot([self.params[\"residual_w\"]+1e-3,x[index]],[0,item],'o-')\n",
    "            sw_shock = x[index]\n",
    "            maximum = grad\n",
    "    \n",
    "    #plt.show()\n",
    "    #print(sw_shock)\n",
    "    return(sw_shock)\n",
    " \n",
    "\n",
    "BuckleyLev.shock_sat = shock_sat\n",
    "    "
   ]
  },
  {
   "cell_type": "code",
   "execution_count": 1555,
   "metadata": {
    "collapsed": false
   },
   "outputs": [],
   "source": [
    "a = BuckleyLev()"
   ]
  },
  {
   "cell_type": "code",
   "execution_count": 1556,
   "metadata": {
    "collapsed": false
   },
   "outputs": [],
   "source": [
    "shk = a.shock_sat()"
   ]
  },
  {
   "cell_type": "code",
   "execution_count": 1557,
   "metadata": {
    "collapsed": false
   },
   "outputs": [],
   "source": [
    "a.plot_fractional_flow()"
   ]
  },
  {
   "cell_type": "code",
   "execution_count": 1558,
   "metadata": {
    "collapsed": false
   },
   "outputs": [
    {
     "data": {
      "image/png": "[encoded data removed]",
      "text/plain": [
       "<matplotlib.figure.Figure at 0x1107a9dd0>"
      ]
     },
     "metadata": {},
     "output_type": "display_data"
    },
    {
     "data": {
      "image/png": "[encoded data removed]",
      "text/plain": [
       "<matplotlib.figure.Figure at 0x10efb4c50>"
      ]
     },
     "metadata": {},
     "output_type": "display_data"
    }
   ],
   "source": [
    "\n",
    "a.frac_deriv_combo()\n",
    "plt.show()"
   ]
  },
  {
   "cell_type": "code",
   "execution_count": 1559,
   "metadata": {
    "collapsed": false
   },
   "outputs": [],
   "source": [
    "def plot_xd(self,times=[1]):\n",
    "    \n",
    "    colors = {0:'r',1:'b',2:'c',3:'g'}\n",
    "    max_val = 0\n",
    "    \n",
    "    for index,time in enumerate(times):\n",
    "        if (max(a.xt(time)[0]) > max_val):\n",
    "            max_val = max(a.xt(time)[0])\n",
    "            \n",
    "        plt.plot(a.xt(time)[0],a.xt(time)[1],colors[index],lw=2)\n",
    "\n",
    "    plt.hlines(self.shock_sat(),0,7,linestyles='dashed',lw=2, colors='0.4')\n",
    "    \n",
    "    plt.annotate('Sw shock: %.2f' % self.shock_sat(),xy=(max_val-1.3,self.shock_sat()+0.012))\n",
    "    plt.ylim([0,1])\n",
    "    plt.show()\n",
    "    \n",
    "BuckleyLev.plot_xd = plot_xd"
   ]
  },
  {
   "cell_type": "code",
   "execution_count": 1560,
   "metadata": {
    "collapsed": false
   },
   "outputs": [],
   "source": [
    "def slice_rarefaction(self,time):\n",
    "    \n",
    "    #generate the xt data \n",
    "    xt, sw = self.xt(time)\n",
    "    index = 0\n",
    "\n",
    "    #find out where the shock saturation is\n",
    "    shock_sat = self.shock_sat()\n",
    "    \n",
    "    #now trim xt and sw arrays \n",
    "    for index, item in enumerate(sw):\n",
    "        if item >= shock_sat:\n",
    "            lim = index\n",
    "            break\n",
    "            \n",
    "    sw_trim = (sw[lim:])\n",
    "    xt_trim = (xt[lim:])\n",
    "  \n",
    "    return(sw_trim,xt_trim)\n",
    "    \n",
    "    \n",
    "    \n",
    "BuckleyLev.slice_rarefaction = slice_rarefaction\n",
    "\n",
    "    "
   ]
  },
  {
   "cell_type": "code",
   "execution_count": 1561,
   "metadata": {
    "collapsed": false
   },
   "outputs": [
    {
     "data": {
      "image/png": "[encoded data removed]",
      "text/plain": [
       "<matplotlib.figure.Figure at 0x10eeb3e10>"
      ]
     },
     "metadata": {},
     "output_type": "display_data"
    }
   ],
   "source": [
    "a = BuckleyLev()\n",
    "a.plot_xd([1000,2000,3000,4000])"
   ]
  },
  {
   "cell_type": "code",
   "execution_count": 1562,
   "metadata": {
    "collapsed": false
   },
   "outputs": [
    {
     "data": {
      "text/plain": [
       "(array([ 0.83477551,  0.85108163,  0.86738776,  0.88369388,  0.9       ]),\n",
       " [0.2233635765433416,\n",
       "  0.15356318003323696,\n",
       "  0.10420268985441156,\n",
       "  0.069858357148850872,\n",
       "  0.046269935048767051])"
      ]
     },
     "execution_count": 1562,
     "metadata": {},
     "output_type": "execute_result"
    }
   ],
   "source": [
    "a.slice_rarefaction(1000)"
   ]
  },
  {
   "cell_type": "code",
   "execution_count": 1563,
   "metadata": {
    "collapsed": false
   },
   "outputs": [],
   "source": [
    "def plot_sat_front(self,times=[1]):\n",
    "    colors = {0:'r',1:'b',2:'c',3:'g'}\n",
    "       \n",
    "    for index, time in enumerate(times):\n",
    "        \n",
    "        y = sorted((self.slice_rarefaction(time)[0]))\n",
    "        x = sorted((self.slice_rarefaction(time)[1]),reverse=True)\n",
    "        plt.plot(x,y,colors[index],lw=2)\n",
    "\n",
    "        if (x[len(x)-1]>0.001):\n",
    "            #plt.plot([0,x[len(x)-1]],[1,1],'b',lw=2)\n",
    "            plt.hlines(1-self.params[\"residual_o\"],0,x[len(x)-1],colors[index],lw=2)\n",
    "            plt.plot(x[len(x)-1],y[len(y)-1],colors[index]+'o')\n",
    "\n",
    "\n",
    "        plt.vlines(x[0],y[0],self.params[\"initial_sw\"],colors[index],lw=2)\n",
    "        plt.hlines(self.params[\"initial_sw\"],x[0],x[0]+1,colors[index],lw=2)\n",
    "\n",
    "        #highlight vshock point\n",
    "        plt.plot(x[0],y[0],colors[index]+'o') \n",
    "\n",
    "    plt.ylim([0,1])\n",
    "    plt.xlim([0,x[0]+1])\n",
    "    \n",
    "    plt.show()\n",
    "BuckleyLev.plot_sat_front = plot_sat_front"
   ]
  },
  {
   "cell_type": "code",
   "execution_count": 1565,
   "metadata": {
    "collapsed": false
   },
   "outputs": [
    {
     "data": {
      "image/png": "[encoded data removed]",
      "text/plain": [
       "<matplotlib.figure.Figure at 0x10f4d2ed0>"
      ]
     },
     "metadata": {},
     "output_type": "display_data"
    }
   ],
   "source": [
    "a = BuckleyLev()\n",
    "a.plot_sat_front([500,2000,3000,4000])"
   ]
  },
  {
   "cell_type": "code",
   "execution_count": 1486,
   "metadata": {
    "collapsed": false
   },
   "outputs": [
    {
     "data": {
      "text/plain": [
       "'ro'"
      ]
     },
     "execution_count": 1486,
     "metadata": {},
     "output_type": "execute_result"
    }
   ],
   "source": [
    "colors = {1:'r',2:'b'}\n",
    "colors[1]+'o'"
   ]
  },
  {
   "cell_type": "code",
   "execution_count": null,
   "metadata": {
    "collapsed": true
   },
   "outputs": [],
   "source": []
  }
 ],
 "metadata": {
  "kernelspec": {
   "display_name": "Python [Root]",
   "language": "python",
   "name": "Python [Root]"
  },
  "language_info": {
   "codemirror_mode": {
    "name": "ipython",
    "version": 2
   },
   "file_extension": ".py",
   "mimetype": "text/x-python",
   "name": "python",
   "nbconvert_exporter": "python",
   "pygments_lexer": "ipython2",
   "version": "2.7.12"
  }
 },
 "nbformat": 4,
 "nbformat_minor": 0
}
