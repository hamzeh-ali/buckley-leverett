{
 "cells": [
  {
   "cell_type": "code",
   "execution_count": 437,
   "metadata": {
    "collapsed": true
   },
   "outputs": [],
   "source": [
    "import numpy as np\n",
    "from scipy import interpolate\n",
    "import matplotlib.pyplot as plt\n",
    "from matplotlib.patches import Polygon "
   ]
  },
  {
   "cell_type": "code",
   "execution_count": 438,
   "metadata": {
    "collapsed": true
   },
   "outputs": [],
   "source": [
    "class BuckleyLev():\n",
    "    \n",
    "    def __init__(self):\n",
    "        self.params = {\n",
    "            #non wetting phase viscosity\n",
    "            \"viscosity_o\": 1.e-3,\n",
    "            #wetting phase viscosity\n",
    "            \"viscosity_w\": 1.e-3,\n",
    "            #initial water sat\n",
    "            \"initial_sw\":0.2,\n",
    "            #residual water saturation,\n",
    "            \"residual_w\":0.5,\n",
    "            #residual oil saturation,\n",
    "            \"residual_o\":0.3,\n",
    "            #water rel perm at water curve end point\n",
    "            \"krwe\":1,\n",
    "            #oil rel perm at oil curve end point\n",
    "            \"kroe\": 0.99\n",
    "        }"
   ]
  },
  {
   "cell_type": "code",
   "execution_count": 439,
   "metadata": {
    "collapsed": false
   },
   "outputs": [],
   "source": [
    "def k_rw(self,sw):\n",
    "    #water relative perm calculation for a given water saturation \n",
    "    p = 11.174\n",
    "    return ((self.params['krwe']))*sw**p\n",
    "\n",
    "BuckleyLev.k_rw = k_rw"
   ]
  },
  {
   "cell_type": "code",
   "execution_count": 440,
   "metadata": {
    "collapsed": true
   },
   "outputs": [],
   "source": [
    "def k_rn(self,sw):\n",
    "    #oil relative perm calculation for a given water saturation \n",
    "    q = 3.326\n",
    "    return ((1.-self.params['kroe']*sw)**q)\n",
    "\n",
    "BuckleyLev.k_rn = k_rn"
   ]
  },
  {
   "cell_type": "code",
   "execution_count": 441,
   "metadata": {
    "collapsed": false
   },
   "outputs": [],
   "source": [
    "def fractional_flow(self,sw):\n",
    "    #returns the fractional flow\n",
    "    \n",
    "    return 1./(1.+((self.k_rn(sw)/self.k_rw(sw))*(self.params[\"viscosity_w\"]/self.params[\"viscosity_o\"])))\n",
    "\n",
    "BuckleyLev.fractional_flow = fractional_flow"
   ]
  },
  {
   "cell_type": "code",
   "execution_count": 442,
   "metadata": {
    "collapsed": false
   },
   "outputs": [],
   "source": [
    "def fractional_flow_deriv(self,sw):\n",
    "    #calculate derivative of fractional flow - dFw/dSw - Vsh\n",
    "    \n",
    "    f_deriv = (self.fractional_flow(sw+0.0001) - self.fractional_flow(sw))/0.0001\n",
    "    \n",
    "    return f_deriv\n",
    "\n",
    "BuckleyLev.fractional_flow_deriv = fractional_flow_deriv"
   ]
  },
  {
   "cell_type": "code",
   "execution_count": 443,
   "metadata": {
    "collapsed": true
   },
   "outputs": [],
   "source": [
    "def plot_fractional_flow_deriv(self):\n",
    "    #plot the derivative dFw/dSw - Vsh vs Sw\n",
    "    y = np.linspace(self.params[\"residual_w\"]+1e-3,(1-self.params[\"residual_o\"]+1e-3),50)\n",
    "    x = [self.fractional_flow_deriv(i) for i in y ]\n",
    "    \n",
    "    plt.plot(x,y)\n",
    "    plt.title('Derivative of fractional flow curve')\n",
    "    plt.xlabel('dfw/dSw')\n",
    "    plt.ylabel('Sw')\n",
    "    plt.show()\n",
    "    \n",
    "BuckleyLev.plot_fractional_flow_deriv=plot_fractional_flow_deriv"
   ]
  },
  {
   "cell_type": "code",
   "execution_count": 444,
   "metadata": {
    "collapsed": false
   },
   "outputs": [],
   "source": [
    "def sw_at_shock_front(self):\n",
    "    #first find range to search in by looking where 2nd derivative is negative (where curve turns)\n",
    "    \n",
    "    sw_start = 1.-self.params['residual_o']\n",
    "    sw_end = self.params['residual_w']\n",
    "    \n",
    "    \n",
    "    for sw in np.arange(self.params['residual_w']+1.e-9, 1.-self.params['residual_o'],0.001):\n",
    "        if (self.fractional_flow_2deriv(sw)< -1.e-2 and sw < sw_start):\n",
    "            #i.e. we are below sw_start and the grad is negative - update upper limit\n",
    "            sw_start = sw\n",
    "        if (self.fractional_flow_2deriv(sw)< -1.e-2 and sw > sw_end):\n",
    "            # i.e. we are above sw_end and the gradient is negative - update lower limit\n",
    "            sw_end = sw\n",
    "        else:\n",
    "            sw_at_front = 0.\n",
    "            current_min = 1000.\n",
    "        \n",
    "            #find where finite difference approximation (almost) equals the continuous value of the function\n",
    "    for sw in np.arange(sw_start,sw_end, 0.0001):\n",
    "        \n",
    "        current_diff = abs(self.fractional_flow_deriv(sw)-self.fractional_flow(sw)/sw)\n",
    "        #print( 'grad func',self.fractional_flow_deriv(sw),sw,self.fractional_flow(sw)/sw)\n",
    "        print('approx',self.fractional_flow(sw)/sw, sw)\n",
    "        if current_diff < current_min:\n",
    "            #print('sw at front',current_min, sw,current_diff)\n",
    "            current_min = current_diff\n",
    "            sw_at_front = sw\n",
    "                \n",
    "            current_min = current_diff\n",
    "                    \n",
    "    return sw_at_front\n",
    "BuckleyLev.sw_at_shock_front = sw_at_shock_front"
   ]
  },
  {
   "cell_type": "code",
   "execution_count": 480,
   "metadata": {
    "collapsed": false
   },
   "outputs": [],
   "source": [
    "def plot_fractional_flow(self):\n",
    "    #plot the sw vs fractional flow\n",
    "    \n",
    "    #x = np.linspace(self.params[\"residual_w\"]+1e-3,(1-self.params[\"residual_o\"]+1e-3),100)\n",
    "    x = np.linspace(self.params[\"residual_w\"]+1e-3,(1),100)\n",
    "    y = [self.fractional_flow(i) for i in x ]\n",
    "    \n",
    "    plt.plot(x,y)\n",
    "    \n",
    "    #sw_at_front = self.sw_at_shock_front()\n",
    "    #plt.plot([sw_at_front],[self.fractional_flow(sw_at_front)],'ro')\n",
    "    \n",
    "    plt.title('Fractional flow as a function of water saturation')\n",
    "    plt.xlabel('Sw')\n",
    "    plt.ylabel('Fractional flow')\n",
    "    plt.ylim([0,1.1])\n",
    "    plt.xlim([0,1])\n",
    "    \n",
    "    #add limiting fractional flow lines\n",
    "    plt.hlines(y[len(y)-1],0,1,linestyles='dashed',lw=2, colors='0.4')\n",
    "    plt.annotate('fw max: %.4f' % y[len(y)-1],xy=(0.08,0.95))\n",
    "    \n",
    "    \n",
    "    plt.show()\n",
    "    print(y[len(y)-1])\n",
    "    \n",
    "BuckleyLev.plot_fractional_flow = plot_fractional_flow"
   ]
  },
  {
   "cell_type": "code",
   "execution_count": 446,
   "metadata": {
    "collapsed": true
   },
   "outputs": [],
   "source": [
    "def fractional_flow_2deriv(self,sw):\n",
    "    f_2deriv = ((self.fractional_flow(sw+0.01))-2*(self.fractional_flow(sw))-self.fractional_flow(sw-0.01))/((0.01)**2)\n",
    "    return f_2deriv\n",
    "\n",
    "BuckleyLev.fractional_flow_2deriv = fractional_flow_2deriv"
   ]
  },
  {
   "cell_type": "code",
   "execution_count": 447,
   "metadata": {
    "collapsed": false
   },
   "outputs": [],
   "source": [
    "a = BuckleyLev()\n",
    "#a.plot_fractional_flow()\n",
    "#a.plot_fractional_flow_deriv()\n",
    "#a.sw_at_shock_front()\n"
   ]
  },
  {
   "cell_type": "code",
   "execution_count": 448,
   "metadata": {
    "collapsed": false
   },
   "outputs": [
    {
     "ename": "SyntaxError",
     "evalue": "invalid syntax (<ipython-input-448-694dfd2eefdf>, line 7)",
     "output_type": "error",
     "traceback": [
      "\u001b[0;36m  File \u001b[0;32m\"<ipython-input-448-694dfd2eefdf>\"\u001b[0;36m, line \u001b[0;32m7\u001b[0m\n\u001b[0;31m    x = [x for x in x if ]\u001b[0m\n\u001b[0m                         ^\u001b[0m\n\u001b[0;31mSyntaxError\u001b[0m\u001b[0;31m:\u001b[0m invalid syntax\n"
     ]
    }
   ],
   "source": [
    "def displacement_plot(self):\n",
    "    #using the shock front velocity, plot the displacement profile\n",
    "    v_sh = self.sw_at_shock_front()\n",
    "    \n",
    "    y = np.linspace(self.params[\"residual_w\"]+1e-3,(1-self.params[\"residual_o\"]+1e-3),50)\n",
    "    x = [self.fractional_flow_deriv(i) for i in y if self.fractional_flow_deriv(i)>v_sh ]\n",
    "   \n",
    "\n",
    "    return x\n",
    "BuckleyLev.displacement_plot = displacement_plot"
   ]
  },
  {
   "cell_type": "code",
   "execution_count": null,
   "metadata": {
    "collapsed": false
   },
   "outputs": [],
   "source": [
    "a.displacement_plot()"
   ]
  },
  {
   "cell_type": "code",
   "execution_count": 449,
   "metadata": {
    "collapsed": false
   },
   "outputs": [
    {
     "name": "stdout",
     "output_type": "stream",
     "text": [
      "[0.5830010692722126, 0.9680037915962142, 1.5693554144293533, 2.4561766717509648, 3.646403868604653, 5.012121042502537, 6.200111187484702, 6.727686174101466]\n"
     ]
    }
   ],
   "source": [
    "x = [0.34515032411008839,\n",
    " 0.58300106927221262,\n",
    " 0.96800379159621419,\n",
    " 1.5693554144293533,\n",
    " 2.4561766717509648,\n",
    " 3.6464038686046529,\n",
    " 5.0121210425025371,\n",
    " 6.2001111874847021,\n",
    " 6.727686174101466,\n",
    " 6.3186101190487731,\n",
    " 5.1607154153902046,\n",
    " 3.7385562003204864,\n",
    " 2.4643169685046873,\n",
    " 1.5119874927932431,\n",
    " 0.87693503513319726,\n",
    " 0.48426662278056032]\n",
    "current_max = 0\n",
    "new_list = []\n",
    "for index, item in enumerate(x):\n",
    "    if (x[index]<=x[index+1]):\n",
    "        new_list.append(x[index+1])\n",
    "    else:\n",
    "        break\n",
    "        \n",
    "print(new_list)\n",
    "new_list = filter(lambda (index,item): item == current_max,enumerate(x))\n",
    "new_list = filter(lambda (index,item): item == max(x),enumerate(x))\n"
   ]
  },
  {
   "cell_type": "code",
   "execution_count": 485,
   "metadata": {
    "collapsed": false
   },
   "outputs": [],
   "source": [
    "def rarefaction_plot(self):\n",
    "    # it should calculate the shock velocity and the corresponding saturation which this occurs an\n",
    "    \n",
    "    #create dx window of increasing size for calculating welge\n",
    "    x = np.linspace(self.params[\"residual_w\"]+1e-3,(1-self.params[\"residual_o\"]+1e-3),50)\n",
    "    \n",
    "    maximum, sw_shock = 0,0\n",
    "    grads = []\n",
    "    \n",
    "    ## calculate welge gradient at each point until we find the max = shock velocity\n",
    "    for swi in x:\n",
    "        grad = self.fractional_flow(swi)/(swi-self.params[\"residual_w\"]+1e-3)\n",
    "        grads.append(grad)\n",
    "        \n",
    "        if grad>maximum:\n",
    "            sw_shock = swi\n",
    "            maximum = grad\n",
    "            \n",
    "    #find the position of the shock velocity in the grads array and slice to this point for the rarefaction \n",
    "    #plus one to include the actual shock velocity. Reverse to get the values in the right order\n",
    "    rarefaction = (grads[:([i for i,j in enumerate(grads) if j == maximum][0]+1)])\n",
    "    rarefaction.sort(reverse=True)\n",
    "    print(x)\n",
    "    y = x[:(len(rarefaction))]\n",
    "    \n",
    "    #plot rarefaction part \n",
    "    plt.plot(rarefaction,y,'b',lw=2)\n",
    "    \n",
    "    #highlight vshock point\n",
    "    plt.plot(rarefaction[0],y[0],'ro')\n",
    "    \n",
    "    #add the part ahead of the shock front\n",
    "    plt.vlines(rarefaction[0],y[0],self.params[\"initial_sw\"],'b',lw=2)\n",
    "    plt.hlines(self.params[\"initial_sw\"],rarefaction[0],rarefaction[0]+1,'b',lw=2)\n",
    "\n",
    "    #add saturation lines\n",
    "    plt.hlines(self.params[\"initial_sw\"],0,rarefaction[0],linestyles='dashed',lw=2,colors='0.4')\n",
    "    plt.hlines(y[0],0,rarefaction[0],linestyles='dashed',lw=2, colors='0.4')\n",
    "    plt.vlines(rarefaction[0],-2,self.params[\"initial_sw\"],linestyles='dashed',lw=2, colors='0.4')\n",
    "\n",
    "    # add annotations\n",
    "    plt.annotate('V shock',xy=(rarefaction[0]+0.08,y[0]+0.08))\n",
    "    plt.annotate('Sw f',xy=(0+0.04,y[0]-0.08))\n",
    "    plt.annotate('Sw i',xy=(0+0.04,self.params[\"initial_sw\"]-0.08))\n",
    "    \n",
    "    \n",
    "    #ad vdmin if the last velocity values is not within zero toleraance \n",
    "    print(rarefaction[len(rarefaction)-1])\n",
    "\n",
    "    plt.xlabel('Dimensionless Velocity, Vd = xd/td')\n",
    "    plt.ylabel('Saturation')\n",
    "    \n",
    "    plt.ylim([0,1])\n",
    "    plt.xlim([0,rarefaction[0]+1])\n",
    "    plt.show()\n",
    "    \n",
    "    \n",
    "BuckleyLev.rarefaction_plot = rarefaction_plot"
   ]
  },
  {
   "cell_type": "code",
   "execution_count": 295,
   "metadata": {
    "collapsed": false
   },
   "outputs": [
    {
     "data": {
      "image/png": "[encoded data removed]",
      "text/plain": [
       "<matplotlib.figure.Figure at 0x10f6e6990>"
      ]
     },
     "metadata": {},
     "output_type": "display_data"
    }
   ],
   "source": [
    "y = np.linspace(a.params[\"residual_w\"]+1e-3,(1-a.params[\"residual_o\"]+1e-3),50)[:(len(x))]\n",
    "x = a.rarefaction()[2]\n",
    "x.sort(reverse=True)\n",
    "\n",
    "#plot rarefaction part\n",
    "plt.plot(x,y,'b',lw=2)\n",
    "\n",
    "#highlight vshock\n",
    "plt.plot(x[0],y[0],'ro')\n",
    "\n",
    "#add the part ahead of the shock front\n",
    "plt.vlines(x[0],y[0],a.params[\"initial_sw\"]-1,'b',lw=2)\n",
    "plt.hlines(a.params[\"initial_sw\"]-1,x[0],1.9,'b',lw=2)\n",
    "\n",
    "#add saturation lines\n",
    "plt.hlines(a.params[\"initial_sw\"]-1,0,x[0],linestyles='dashed',lw=2,colors='0.4')\n",
    "plt.hlines(y[0],0,x[0],linestyles='dashed',lw=2, colors='0.4')\n",
    "plt.vlines(x[0],-2,a.params[\"initial_sw\"]-1,linestyles='dashed',lw=2, colors='0.4')\n",
    "\n",
    "# add annotations\n",
    "plt.annotate('V shock',xy=(x[0]+0.1,y[0]+0.1))\n",
    "plt.annotate('Sw f',xy=(0+0.04,y[0]-0.15))\n",
    "plt.annotate('Sw i',xy=(0+0.04,a.params[\"initial_sw\"]-1-0.15))\n",
    "\n",
    "plt.xlabel('Dimensionless Velocity, Vd = xd/td')\n",
    "plt.ylabel('Saturation')\n",
    "\n",
    "plt.ylim([-2,1])\n",
    "plt.show()"
   ]
  },
  {
   "cell_type": "code",
   "execution_count": 196,
   "metadata": {
    "collapsed": false
   },
   "outputs": [],
   "source": [
    "x = np.linspace(a.params[\"residual_w\"]+1e-3,(1-a.params[\"residual_o\"]+1e-3),50)\n",
    "grads = map(lambda (index, swi): a.fractional_flow(swi)/(swi-a.params[\"residual_w\"]+1e-3) ,enumerate(x))"
   ]
  },
  {
   "cell_type": "code",
   "execution_count": 67,
   "metadata": {
    "collapsed": false
   },
   "outputs": [
    {
     "data": {
      "text/plain": [
       "0.99800376989047002"
      ]
     },
     "execution_count": 67,
     "metadata": {},
     "output_type": "execute_result"
    }
   ],
   "source": [
    "#reduce(lambda item,accum: item if (item>accum) else accum ,grads)\n",
    "#filter(lambda (item,iter): item>item[iter-1] ,enumerate(grads))\n",
    "reduce(lambda item,accum:  accum,grads)"
   ]
  },
  {
   "cell_type": "code",
   "execution_count": 486,
   "metadata": {
    "collapsed": false
   },
   "outputs": [
    {
     "name": "stdout",
     "output_type": "stream",
     "text": [
      "[ 0.501       0.50508163  0.50916327  0.5132449   0.51732653  0.52140816\n",
      "  0.5254898   0.52957143  0.53365306  0.53773469  0.54181633  0.54589796\n",
      "  0.54997959  0.55406122  0.55814286  0.56222449  0.56630612  0.57038776\n",
      "  0.57446939  0.57855102  0.58263265  0.58671429  0.59079592  0.59487755\n",
      "  0.59895918  0.60304082  0.60712245  0.61120408  0.61528571  0.61936735\n",
      "  0.62344898  0.62753061  0.63161224  0.63569388  0.63977551  0.64385714\n",
      "  0.64793878  0.65202041  0.65610204  0.66018367  0.66426531  0.66834694\n",
      "  0.67242857  0.6765102   0.68059184  0.68467347  0.6887551   0.69283673\n",
      "  0.69691837  0.701     ]\n",
      "0.311441070905\n"
     ]
    },
    {
     "data": {
      "image/png": "[encoded data removed]",
      "text/plain": [
       "<matplotlib.figure.Figure at 0x110007050>"
      ]
     },
     "metadata": {},
     "output_type": "display_data"
    }
   ],
   "source": [
    "a = BuckleyLev()\n",
    "a.rarefaction_plot()"
   ]
  },
  {
   "cell_type": "code",
   "execution_count": 481,
   "metadata": {
    "collapsed": false
   },
   "outputs": [
    {
     "data": {
      "image/png": "[encoded data removed]",
      "text/plain": [
       "<matplotlib.figure.Figure at 0x110a36f10>"
      ]
     },
     "metadata": {},
     "output_type": "display_data"
    },
    {
     "name": "stdout",
     "output_type": "stream",
     "text": [
      "0.999999777157\n"
     ]
    }
   ],
   "source": [
    "a.plot_fractional_flow()"
   ]
  },
  {
   "cell_type": "code",
   "execution_count": 102,
   "metadata": {
    "collapsed": false
   },
   "outputs": [
    {
     "data": {
      "text/plain": [
       "41"
      ]
     },
     "execution_count": 102,
     "metadata": {},
     "output_type": "execute_result"
    }
   ],
   "source": [
    "[i for i,x in enumerate(c[0]) if x == c[2]][0]"
   ]
  },
  {
   "cell_type": "code",
   "execution_count": 105,
   "metadata": {
    "collapsed": false
   },
   "outputs": [
    {
     "data": {
      "image/png": "[encoded data removed]",
      "text/plain": [
       "<matplotlib.figure.Figure at 0x10f107f90>"
      ]
     },
     "metadata": {},
     "output_type": "display_data"
    }
   ],
   "source": [
    "plt.plot(,c[0][:[i for i,x in enumerate(c[0]) if x == c[2]][0]])\n",
    "plt.show()"
   ]
  },
  {
   "cell_type": "code",
   "execution_count": 110,
   "metadata": {
    "collapsed": false
   },
   "outputs": [
    {
     "data": {
      "text/plain": [
       "([1.0555985171873555e-31,\n",
       "  7.439251471259825e-18,\n",
       "  7.4042084864082389e-15,\n",
       "  4.5685432294991604e-13,\n",
       "  8.8360010056319082e-12,\n",
       "  9.0090655953176873e-11,\n",
       "  6.1189686964991084e-10,\n",
       "  3.1391354631025245e-09,\n",
       "  1.3115646634414593e-08,\n",
       "  4.6859245982700724e-08,\n",
       "  1.4802460157222927e-07,\n",
       "  4.2343397878323237e-07,\n",
       "  1.1164542415015989e-06,\n",
       "  2.7501845203759121e-06,\n",
       "  6.396252522829e-06,\n",
       "  1.4163812941259775e-05,\n",
       "  3.0066683767769093e-05,\n",
       "  6.152928040591584e-05,\n",
       "  0.00012195782970164976,\n",
       "  0.00023507016555416723,\n",
       "  0.00044210559336879755,\n",
       "  0.00081372116016860201,\n",
       "  0.0014694695895603404,\n",
       "  0.0026094654940107074,\n",
       "  0.0045654740513758471,\n",
       "  0.0078825037377451852,\n",
       "  0.013447062726465368,\n",
       "  0.022683274136170117,\n",
       "  0.037837718012137637,\n",
       "  0.062352180276312175,\n",
       "  0.10124140211105588,\n",
       "  0.16117891501218773,\n",
       "  0.24959474685979291,\n",
       "  0.37173937426879866,\n",
       "  0.52541837159451643,\n",
       "  0.69631484598048288,\n",
       "  0.86015048268563321,\n",
       "  0.99362149403855515,\n",
       "  1.0852893283595302,\n",
       "  1.1370628125859281,\n",
       "  1.1581620510843109,\n",
       "  1.1588480288892082,\n",
       "  1.1473209176903265,\n",
       "  1.1291529263742035,\n",
       "  1.107785999445517,\n",
       "  1.0852122647701097,\n",
       "  1.0625226612731018,\n",
       "  1.0402779328405098,\n",
       "  1.0187391015913996,\n",
       "  0.99800376989047002],\n",
       " 0.83773469387755095,\n",
       " 1.1588480288892082)"
      ]
     },
     "execution_count": 110,
     "metadata": {},
     "output_type": "execute_result"
    }
   ],
   "source": [
    "c"
   ]
  },
  {
   "cell_type": "code",
   "execution_count": 134,
   "metadata": {
    "collapsed": false
   },
   "outputs": [
    {
     "data": {
      "text/plain": [
       "array([ 0.001])"
      ]
     },
     "execution_count": 134,
     "metadata": {},
     "output_type": "execute_result"
    }
   ],
   "source": [
    "x[:1]"
   ]
  },
  {
   "cell_type": "code",
   "execution_count": null,
   "metadata": {
    "collapsed": true
   },
   "outputs": [],
   "source": []
  }
 ],
 "metadata": {
  "kernelspec": {
   "display_name": "Python [Root]",
   "language": "python",
   "name": "Python [Root]"
  },
  "language_info": {
   "codemirror_mode": {
    "name": "ipython",
    "version": 2
   },
   "file_extension": ".py",
   "mimetype": "text/x-python",
   "name": "python",
   "nbconvert_exporter": "python",
   "pygments_lexer": "ipython2",
   "version": "2.7.12"
  }
 },
 "nbformat": 4,
 "nbformat_minor": 0
}
